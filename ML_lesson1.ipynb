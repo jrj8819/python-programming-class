{
 "cells": [
  {
   "cell_type": "markdown",
   "metadata": {},
   "source": [
    "# 머신러닝 기반 파이썬 데이터 분석"
   ]
  },
  {
   "cell_type": "markdown",
   "metadata": {},
   "source": [
    "## 1. 용어 정리"
   ]
  },
  {
   "cell_type": "markdown",
   "metadata": {},
   "source": [
    "### 빅데이터"
   ]
  },
  {
   "cell_type": "markdown",
   "metadata": {},
   "source": [
    "빅 데이터(영어: big data)란 기존 데이터베이스 관리도구의 능력을 넘어서는 대량(수십 테라바이트)의 정형 또는 심지어 데이터베이스 형태가 아닌 비정형의 데이터 집합조차 포함한 데이터로부터 가치를 추출하고 결과를 분석하는 기술이다. "
   ]
  },
  {
   "cell_type": "markdown",
   "metadata": {},
   "source": [
    "### 빅데이터의 특징 "
   ]
  },
  {
   "cell_type": "markdown",
   "metadata": {},
   "source": [
    "빅 데이터는 데이터의 볼륨, 속도 및 다양성의 증가로 인해 발생하는 데이터 관리 문제의 측면에서 설명할 수 있습니다. 이러한 문제는 기존 데이터베이스로는 해결할 수 없습니다. 빅 데이터에 대한 정의는 상당히 많지만, 이들 대부분은 빅 데이터의 \"세 가지 V\"로 알려진 개념을 포함하고 있습니다.\n",
    "\n",
    "볼륨 (Volume) : 데이터 규모는 테라바이트에서 페타바이트에 이릅니다.\n",
    "\n",
    "다양성 (Variety) : 다양한 소스 및 형식의 데이터를 포함합니다(예: 웹 로그, 소셜 미디어 상호 작용, 전자 상거래 및 온라인 트랜잭션, 금융 트랜잭션 등).\n",
    "\n",
    "속도 (Velocity) : 비즈니스에서는 데이터가 생성된 시점부터 실행 가능한 통찰력이 사용자에게 전달되는 시점까지의 시간에 대해 갈수록 더 엄격한 요구 사항을 제시합니다. 따라서 데이터는 하루 단위에서 실시간에 이르기까지 상대적으로 짧은 시간 내에 수집, 저장, 처리 및 분석되어야 합니다.\n",
    "\n",
    "정확성 (Veracity) : 빅데이터 시대에는 방대한 데이터의 양을 분석하여 일정한 패턴을 추출할 수 있다. 그러나 과연 데이터 일정 패턴을 설명할 수 있을 만큼 신뢰성이 있느냐는 문제가 생긴다. 데이터가 많아질수록 엉터리 데이터도 커질 가능성이 높아지기 때문이다. 따라서 빅데이터를 분석하는 데 있어 기업이나 기관에 수집한 데이터가 정확한 것인지, 분석할 만한 가치가 있는지 등을 살펴야 하는 필요성이 생겼고 이러한 측면에서 빅데이터의 새로운 속성인 정확성(Veracity)이 제시되고 있다.\n",
    "\n",
    "가변성 (Variability) : 최근 소셜미디어의 확산으로 자기 의견을 웹을 통해 자유롭게 게시하는 것이 쉬워졌지만 실제로 자신의 의도와는 달리 자기 생각을 글로 표현하게 되면 맥락에 따라 자신의 의도가 다른 사람에게 오해를 불러일으킬 수 있다. 이처럼 데이터가 맥락에 따라 의미가 달라진다고 하여 빅데이터의 새로운 속성으로 가변성(Variability)이 제시되고 있다.\n",
    "\n",
    "시각화 (Visualization) : 빅데이터는 정형 및 비정형 데이터를 수집하여 복잡한 분석을 실행한 후 용도에 맞게 정보를 가공하는 과정을 거친다. 이때 중요한 것은 정보의 사용 대상자가 쉽게 이해할 수 있어야 한다. 그렇지 않으면 정보의 가공을 위해 소모된 시간적, 경제적 비용이 무용지물이 될 수 있기 때문이다.\n",
    "\n",
    "[네이버 지식백과]  빅데이터의 속성 3V, 4V (국립중앙과학관 - 빅데이터)\n"
   ]
  },
  {
   "cell_type": "markdown",
   "metadata": {},
   "source": [
    "### 데이터 과학(데이터 사이언스)"
   ]
  },
  {
   "cell_type": "markdown",
   "metadata": {},
   "source": [
    "데이터 과학(data science)이란, 데이터 마이닝(Data Mining)과 유사하게 정형, 비정형 형태를 포함한 다양한 데이터로부터 지식과 인사이트를 추출하는데 과학적 방법론, 프로세스, 알고리즘, 시스템을 동원하는 융합분야다.\n",
    "\n",
    "데이터 과학은 데이터를 통해 실제 현상을 이해하고 분석하는데 통계학, 데이터 분석, 기계학습과 연관된 방법론을 통합하는 개념으로 정의되기도 한다.\n",
    "\n",
    "데이터의 구체적인 내용이 아닌 서로 다른 성질의 내용이나 형식의 데이터에 공통으로 존재하는 성질, 또는 그것들을 다루기 위한 기술의 개발에 착안점을 둔다는 특징을 가진다. 사용되는 기술은 여러분야에 걸쳐있으며 수학, 통계학, 계산기과학, 정보공학, 패턴인식, 기계학습, 데이터마이닝, 데이터베이스 등과 관련이 있다. 데이터 과학을 연구하는 사람을 데이터 과학자라고 한다.\n"
   ]
  },
  {
   "cell_type": "markdown",
   "metadata": {},
   "source": [
    "### 머신러닝"
   ]
  },
  {
   "cell_type": "markdown",
   "metadata": {},
   "source": [
    "기계 학습(機械學習) 또는 머신 러닝(영어: machine learning)은 인공 지능의 한 분야로, 컴퓨터가 학습할 수 있도록 하는 알고리즘과 기술을 개발하는 분야를 말한다. 가령, 기계 학습을 통해서 수신한 이메일이 스팸인지 아닌지를 구분할 수 있도록 훈련할 수 있다."
   ]
  },
  {
   "cell_type": "markdown",
   "metadata": {},
   "source": [
    "### 스스로 변화하는 프로그램"
   ]
  },
  {
   "cell_type": "markdown",
   "metadata": {},
   "source": [
    "1959년 머신 러닝의 선구자 중의 한 명인 Arthur Samuel은 머신 러닝을 “컴퓨터에게 명시적으로 프로그래밍 하지 않고 학습을 할수 있는 능력을 주는 연구 분야”라고 정의하였다. 다시 말하면 머신 러닝 프로그램은 앞서 언급했던 if-then과 같은 구문을 명시적으로 컴퓨터에 프로그래밍하는 것이 아니라 머신 러닝 프로그램이 경험한 데이터에 대한 반응으로 스스로를 변경하는 것이다(이것은 마치 아이가 아무것도 모르는 채 세상에 태어나서 그들이 경험한 것을 바탕으로 세상을 이해하게 되는 것과 같은 이치이다).\n",
    "\n",
    "\n",
    "\n",
    "Samuel은 컴퓨터 프로그램이 체커 게임을 하도록 학습시켰다. 그의 목표는 컴퓨터가 체커를 자신보다 더 잘하도록 학습시키는 것이었는데, 이것은 분명히 그가 명시적으로 프로그래밍할 수 있는 것이 아니었다. 그럼에도 불구하고 마침내 그는 성공했고 1962년에 Samuel의 프로그램은 코네티컷 주의 체커 챔피언을 상대로 승리하였다.\n",
    "\n",
    "\n"
   ]
  },
  {
   "cell_type": "markdown",
   "metadata": {},
   "source": [
    "### 딥러닝"
   ]
  },
  {
   "cell_type": "markdown",
   "metadata": {},
   "source": [
    "딥 러닝(영어: deep learning), 심층학습(深層學習)은 여러 비선형 변환기법의 조합을 통해 높은 수준의 추상화(abstractions, 다량의 데이터나 복잡한 자료들 속에서 핵심적인 내용 또는 기능을 요약하는 작업)를 시도하는 기계학습(machine learning) 알고리즘의 집합으로 정의되며, 큰 틀에서 사람의 사고방식을 컴퓨터에게 가르치는 기계학습의 한 분야라고 이야기할 수 있다. 사람의 신경체를 모델링하여 여러 층으로 구성하여 학습시키는 방법\n",
    "\n",
    "\n"
   ]
  },
  {
   "cell_type": "markdown",
   "metadata": {},
   "source": [
    "## 2. 개발환경 만들기"
   ]
  },
  {
   "cell_type": "markdown",
   "metadata": {},
   "source": [
    "### Anaconda"
   ]
  },
  {
   "cell_type": "markdown",
   "metadata": {},
   "source": [
    "빅데이터 분석을 위한 모듈, 플랫폼 등을 제공한다.\n",
    "\n",
    "다운로드 링크 : www.anaconda.com\n"
   ]
  },
  {
   "cell_type": "markdown",
   "metadata": {},
   "source": [
    "### Jupyter Notebook"
   ]
  },
  {
   "cell_type": "markdown",
   "metadata": {},
   "source": [
    "파이선 코드를 작성할 수 있는 편집기\n",
    "\n",
    "시작 > 검색(Jupyer notebook)하여 jupyter notebook 실행\n",
    "\n",
    "혹은\n",
    "\n",
    "시작 > 모든 프로그램 > python37 > jupyter notebook 실행\n"
   ]
  },
  {
   "cell_type": "markdown",
   "metadata": {},
   "source": [
    "## 3. 데이터 다루기"
   ]
  },
  {
   "cell_type": "markdown",
   "metadata": {},
   "source": [
    "### 웹에서 비정형 데이터 읽어오기"
   ]
  },
  {
   "cell_type": "markdown",
   "metadata": {},
   "source": [
    "HTML은 정보를사람이 읽을 수 있는 형태로 웹에서 표현하려고 사용하는 마크업 언어\n",
    "\n",
    "BeautifulSoup 모듈은 HTML 문서를 파싱하여 자료를 읽어오는 파이썬 모듈\n",
    "\n",
    "웹의 비정형 데이터를 읽어 자료를 추출하는 기법을 웹 스크래핑 혹은 웹 크롤링이라 한다.\n"
   ]
  },
  {
   "cell_type": "code",
   "execution_count": 6,
   "metadata": {},
   "outputs": [
    {
     "name": "stdout",
     "output_type": "stream",
     "text": [
      "['기생충', '알라딘', '악인전', '고질라: 킹 오브 몬스터', '어벤져스: 엔드게임', '0.0MHz', '걸캅스', '교회오빠', '어린 의뢰인', '피터팬: 후크 선장과 결투의 날', '그녀', '명탐정 피카츄', '파리의 딜릴리', '더 보이', '뽀로로 극장판 보물섬 대모험', '배심원들', '안도 타다오', '김군', '서스페리아', '고양이 여행 리포트', '아녜스가 말하는 바르다', '시민 노무현', '나의 히어로 아카데미아 더 무비: 두 명의 히어로', '킹 오브 프리즘 -샤이니 세븐 스타즈- Ⅳ 루이x신x언노운', '호텔 뭄바이', '해피타임 스파이', '보희와 녹양', '아사코', '언더 더 씨2', '옹알스', '로제타', '서스페리아 1977', '돈키호테를 죽인 사나이', '미스 스티븐스', '논-픽션', '나의 특별한 형제', '소은이의 무릎', '우리 지금 만나', '노팅 힐', '벤 이즈 백', '가버나움', '물의 기억', '심도', '로지', '아픈 만큼 사랑한다', '판의 미로 - 오필리아와 세 개의 열쇠', '너의 목소리', '비틀즈: 하드 데이즈 나이트', '베카신!', '마더', '안개 속의 풍경', '오버 데어', '바르다가 사랑한 얼굴들', '에이프릴의 딸', '굿바이 마이 러브NK: 붉은 청춘', '아이아이 가사: 다시 만난 그날', '일일시호일', '뷰티풀 보이스', '인생 후르츠', '파업전야', '1991, 봄', '고양이를 빌려드립니다', '그들이 진심으로 엮을 때', '기생 : 꽃의 고백', '남극의 쉐프', '내가 사는 세상', '내일을 위한 시간', '더 차일드', '라라랜드', '라임라이트', '레터스 투 갓', '루터', '바울', '백사 부인', '산상수훈', '살로메', '삼손과 데릴라', '생일', '안경', '어느 가족', '어른이 되면', '언노운 걸', '영광의 탈출', '영원과 하루', '예수보다 낯선', '요시노 이발관', '위대한 독재자', '자전거 탄 소년', '지금, 만나러 갑니다', '칠곡 가시나들', '카메라를 멈추면 안 돼!', '카모메 식당', '카운터스', '콜 미 바이 유어 네임', '크게 될 놈', '프리덤', '해저 2만리', '미스 사이공: 25주년 특별 공연', '어글리 돌', '항거:유관순 이야기']\n"
     ]
    }
   ],
   "source": [
    "from bs4 import BeautifulSoup\n",
    "from urllib.request import urlopen\n",
    "\n",
    "url = urlopen(\"https://movie.naver.com/movie/running/current.nhn\")\n",
    "soup = BeautifulSoup(url, \"lxml\")\n",
    "\n",
    "wrap = soup.find(\"div\", {\"class\":\"lst_wrap\"}) \n",
    "titles = wrap.find_all(\"dt\", {\"class\":\"tit\"})\n",
    "title = []\n",
    "for t in titles:\n",
    "\ttitle.append(t.find('a').text)\n",
    "\n",
    "print(title)"
   ]
  },
  {
   "cell_type": "markdown",
   "metadata": {},
   "source": [
    "### CSV 파일에서 데이터 읽어오기"
   ]
  },
  {
   "cell_type": "markdown",
   "metadata": {},
   "source": [
    "CSV는 정형 텍스트 파일 포맷으로 테이블형이나 테이블 형에 가까운 데이터를 저장하고 옮긴다.\n",
    "\n",
    "CSV 파일은 변수(variable)을 표현하는 열(column)과 레코드(record)를 표현하는 행(row)로 구성되어 있다."
   ]
  },
  {
   "cell_type": "code",
   "execution_count": 7,
   "metadata": {},
   "outputs": [
    {
     "name": "stdout",
     "output_type": "stream",
     "text": [
      "1\n",
      "17.661016949152543\n"
     ]
    }
   ],
   "source": [
    "import csv\n",
    "\n",
    "with open(\"/Users/raejin/Downloads/Demo.csv\") as infile:\n",
    "\tdata = list(csv.reader(infile))\n",
    "\t# 인덱스 찾기\n",
    "\tcountParticipantsIndex = data[0].index(\"COUNT PARTICIPANTS\")\n",
    "\tprint(countParticipantsIndex)\n",
    "\n",
    "import statistics as stat\n",
    "\n",
    "countParticipants = [int(row[countParticipantsIndex]) for row in data[1:]]\n",
    "\n",
    "print(stat.mean(countParticipants))"
   ]
  },
  {
   "cell_type": "code",
   "execution_count": null,
   "metadata": {},
   "outputs": [],
   "source": []
  }
 ],
 "metadata": {
  "kernelspec": {
   "display_name": "Python 3",
   "language": "python",
   "name": "python3"
  },
  "language_info": {
   "codemirror_mode": {
    "name": "ipython",
    "version": 3
   },
   "file_extension": ".py",
   "mimetype": "text/x-python",
   "name": "python",
   "nbconvert_exporter": "python",
   "pygments_lexer": "ipython3",
   "version": "3.6.4"
  }
 },
 "nbformat": 4,
 "nbformat_minor": 2
}
