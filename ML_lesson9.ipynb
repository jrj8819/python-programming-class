{
 "cells": [
  {
   "cell_type": "markdown",
   "metadata": {},
   "source": [
    "# 머신러닝"
   ]
  },
  {
   "cell_type": "markdown",
   "metadata": {},
   "source": [
    "## 머신러닝이란\n",
    "데이터를 이용한 모델링 기법\n",
    "\n",
    "- 데이터 : 문서, 음성, 이미지 등을 분석 및 학습\n",
    "- 모델 : 학습한 최종 결과물, 가설(hypothesis) 예) 자동 스팸메일 분석기, 운동의 방정식\n"
   ]
  },
  {
   "attachments": {
    "numbers.png": {
     "image/png": "[encoded data removed]"
    }
   },
   "cell_type": "markdown",
   "metadata": {},
   "source": [
    "![/img/numbers.png](attachment:numbers.png)"
   ]
  },
  {
   "cell_type": "markdown",
   "metadata": {},
   "source": [
    "숫자를 구분하는 기준은 무엇? 어떤 알고리즘? 법칙?\n",
    "\n",
    "머신러닝은 명시적으로 모델을 구하기 어려운 문제를 해결하기 위해 개발된 방법\n",
    "\n",
    "공식이나 법칙으로 접근하기 어려운 경우에는 학습 데이터를 이용해 모델을 구한다는 것이 머신러닝의 핵심 개념"
   ]
  },
  {
   "cell_type": "markdown",
   "metadata": {},
   "source": [
    "## 머신러닝의 난제"
   ]
  },
  {
   "cell_type": "markdown",
   "metadata": {},
   "source": [
    "물리법칙, 수학공식으로는 모델링이 불가능했던 영상인식, 음성인식등의 문제를 해결하는데 머신러닝은 적합하지만, 이러한 접근법이 문제의 원인이 되기도 함"
   ]
  },
  {
   "attachments": {},
   "cell_type": "markdown",
   "metadata": {},
   "source": [
    "![1.png](./img/1.png)"
   ]
  },
  {
   "cell_type": "markdown",
   "metadata": {},
   "source": [
    "학습 데이터에 실제 현장 데이터의 특성이 제대로 반영되어 있지 않다면?\n",
    "\n",
    "제대로 학습되지 않아 정상적으로 작동할 수 없다.\n",
    "\n",
    "- 일반화 : 학습 데이터와 입력 데이터가 달라져도 성능 차이가 나지 않게 하는 작업\n",
    "\n",
    "따라서 일반화를 잘 진행했느냐에 따라 머신러닝의 성패가 갈라진다."
   ]
  },
  {
   "cell_type": "markdown",
   "metadata": {},
   "source": [
    "## 과적합 (Overfitting)"
   ]
  },
  {
   "cell_type": "markdown",
   "metadata": {},
   "source": [
    "과적합 : 학습데이터에 너무 정확하게 맞추어져 일반화 성능이 떨어지는 현상"
   ]
  },
  {
   "attachments": {},
   "cell_type": "markdown",
   "metadata": {},
   "source": [
    "![./img/3.png](./img/3.png)"
   ]
  },
  {
   "cell_type": "markdown",
   "metadata": {},
   "source": [
    "## 과적합의 해결"
   ]
  },
  {
   "cell_type": "markdown",
   "metadata": {},
   "source": [
    "- 정착화(regularization) : 모델의 형태를 최대한 간단하게 만들려는 수치해석적 기법\n",
    "- 검증(validation) : 학습 데이터의 일부를 떼어 학습에 사용하지 않고 모델 성능 검증용으로 사용\n",
    "- 검증의 단계\n",
    "    1. 학습 데이터를 학습용 데이터와 검증용 데이터로 나눈다.\n",
    "    2. 학습용 데이터로 모델을 학습시킨다.\n",
    "    3. 검증용 데이터로 모델의 성능을 평가한다.\n",
    "        a. 성능이 만족스러우면, 학습을 마친다.\n",
    "        b. 성능이 떨어지면 모델의 구조 등을 수정해 2단계부터 다시 수행한다."
   ]
  },
  {
   "cell_type": "markdown",
   "metadata": {},
   "source": [
    "- 교차 검증(cross validation)\n",
    "학습 데이터를 학습용과 검증용으로 나누는 것은 동일, 두 데이터를 처음에 정한 것을 계속 사용하는 것이 아니라 중간에 바꾸어 준다.\n",
    "데이터가 고정되면 학습용과 검증용 데이터에도 과접합될 가능성이 있기 때문"
   ]
  },
  {
   "attachments": {},
   "cell_type": "markdown",
   "metadata": {},
   "source": [
    "![./img/4.png](./img/4.png)"
   ]
  },
  {
   "cell_type": "markdown",
   "metadata": {},
   "source": [
    "머신러닝의 종류\n",
    "머신러닝 기법은 학습 방식에 따라 크게 2종류로 구분\n",
    "\n",
    "- 지도학습 : 학습데이터가 입력과 답의 쌍으로 구성되어 있고 모델은 입력에 대한 출력(결과물)과 정답의 차이가 줄도록 모델을 수정하면서 학습하는 방법\n",
    "- 비지도학습 : 입력만 있고 정답이 없는 학습 데이터를 형태, 특징에 따라 유형을 나누어 분류하면서 학습"
   ]
  },
  {
   "cell_type": "markdown",
   "metadata": {},
   "source": [
    "## 머신러닝을 위한 Scikit-Learn\n",
    "Scikit-Learn은 파이썬에서 다양한 머신러닝 알고리즘을 구현한 라이브러리이다. 여러 모델의 알고리즘을 Estimator API를 활용하여 객체로 만들고 함수로 학습할 수 있어 매우 편리하다."
   ]
  },
  {
   "cell_type": "markdown",
   "metadata": {},
   "source": [
    "Estimator API 이용 방법\n",
    "- Scikit-Learn으로 부터 적절한 추정기(estimator)클래스를 임포트하여 모델의 클래스를 선택\n",
    "- 클래스를 인스턴스화하여 초모수(하이퍼파라미터 : (머신러닝 분야에서)연산을 하기 위해 필수로 필요한 매개변수)를 선택한다.\n",
    "- 데이터를 배치한다\n",
    "- 모델 인스턴스의 fit() 메서드를 호출해 모델을 데이터에 적합(학습)시킨다.\n",
    "- 모델을 새 데이터(검증)에 적용한다.\n",
    "    - 지도 학습인 경우, 대체로 predict() 메서드를 사용해 알려지지 않은 데이터에 대한 레이블(결과)를 예측\n",
    "    - 비지도 학습인 경우, 대체로 transform(), predict() 메서드를 활용해 속성을 변환하거나 값을 추론한다"
   ]
  },
  {
   "cell_type": "markdown",
   "metadata": {},
   "source": [
    "## 머신러닝의 대표적 분석 방법 (분류, 회귀, 클러스터링)"
   ]
  },
  {
   "cell_type": "markdown",
   "metadata": {},
   "source": [
    "- 분류 : 학습 데이터에서 분류의 기준을 학습하고 미지의 데이터를 적절하게 분류한다 >> 지도학습\n",
    "- 회귀 : 학습 단계에서 입력과 정답 값의 관계를 학습하고 미지의 입력 값에서도 적절한 값을 예측한다. > 지도학습\n",
    "- 클러스터링 : 특성을 분석하여 데이터 클러스터(군집)를 생성 > 비지도학습"
   ]
  },
  {
   "cell_type": "code",
   "execution_count": 38,
   "metadata": {},
   "outputs": [],
   "source": [
    "## 데이터 준비\n",
    "import matplotlib.pyplot as plt\n",
    "import numpy as np\n",
    "\n",
    "# x축 정의 범위\n",
    "x_max = 1\n",
    "x_min = -1\n",
    "\n",
    "# y축 정의 범위\n",
    "y_max = 2\n",
    "y_min = -1\n",
    "\n",
    "# 1단위에 점을 몇개 지정할지 스케일을 정함\n",
    "SCALE = 100\n",
    "\n",
    "# 학습용/검증용 데이터를 나눌 비율을 지정\n",
    "TEST_RATE = 0.3\n",
    "\n",
    "## 데이터 생성\n",
    "data_x = np.arange(x_min, x_max, 1 / float(SCALE)).reshape(-1, 1) # 시작, 끝, 간격\n",
    " # 행 부분에 -1이면 열 부분의 값(1)에 따라 원소들을 각 행에 배치\n",
    "# 행이나 열을 특정 개수로 재배열 하고 싶으면 숫자를 지정하고 나머지 행 혹은 열에 -1로 값을 넣어주면 요소를 재배치해준다.\n",
    "\n",
    "data_ty = data_x ** 2 # 노이즈를 적용하기 전의 값\n",
    "data_vy = data_ty + np.random.randn(len(data_ty), 1) * 0.5 # 노이즈를 적용한다\n",
    "\n",
    "## 학습 데이터, 테스트 데이터로 분할(분류, 회귀 문제 활용)\n",
    "def split_train_test(array):\n",
    "    length = len(array)\n",
    "    n_train = int(length * (1 - TEST_RATE))\n",
    "\n",
    "    indices = list(range(length))\n",
    "    np.random.shuffle(indices)\n",
    "    idx_train = indices[:n_train]\n",
    "    idx_test = indices[n_train:]\n",
    "\n",
    "    return sorted(array[idx_train]), sorted(array[idx_test])"
   ]
  },
  {
   "cell_type": "code",
   "execution_count": 39,
   "metadata": {},
   "outputs": [],
   "source": [
    "indices = np.arange(len(data_x)) # 인덱스 값 목록\n",
    "idx_train, idx_test = split_train_test(indices)"
   ]
  },
  {
   "cell_type": "code",
   "execution_count": 42,
   "metadata": {},
   "outputs": [
    {
     "data": {
      "text/plain": [
       "<matplotlib.legend.Legend at 0x87d8f60>"
      ]
     },
     "execution_count": 42,
     "metadata": {},
     "output_type": "execute_result"
    },
    {
     "data": {
      "image/png": "[encoded data removed]",
      "text/plain": [
       "<Figure size 432x288 with 1 Axes>"
      ]
     },
     "metadata": {
      "needs_background": "light"
     },
     "output_type": "display_data"
    }
   ],
   "source": [
    "# 학습 데이터\n",
    "x_train = data_x[idx_train]\n",
    "y_train = data_vy[idx_train]\n",
    "\n",
    "# 테스트 데이터\n",
    "x_test = data_x[idx_test]\n",
    "y_test = data_vy[idx_test]\n",
    "\n",
    "### 그래프 그리기\n",
    "# 산포도\n",
    "plt.scatter(data_x, data_vy, label='target')\n",
    "\n",
    "# 원래 선을 표시\n",
    "plt.plot(data_x, data_ty, linestyle=':',\n",
    "         label='non noise curve') \n",
    "# x축과 y축 범위 설정\n",
    "plt.xlim(x_min, x_max)\n",
    "plt.ylim(y_min, y_max)\n",
    "\n",
    "# 범례 표시\n",
    "plt.legend(bbox_to_anchor=(1.05,1), loc='upper left')"
   ]
  },
  {
   "cell_type": "markdown",
   "metadata": {},
   "source": [
    "### 분류 예시"
   ]
  },
  {
   "cell_type": "markdown",
   "metadata": {},
   "source": [
    "\n",
    "학습 데이터와 테스트 데이터를 원점을 기준으로 2가지 (먼것, 가까운것)으로 총 4종류로 구분하여 학습하고 분류를 진행"
   ]
  },
  {
   "cell_type": "code",
   "execution_count": 47,
   "metadata": {},
   "outputs": [],
   "source": [
    "# 분류할 임계값(원점으로 부터의 반경)\n",
    "CLASS_RADIUS = 0.6\n",
    "# 전체 (x,y)점 데이터가 원안에 있는지 없는지 검사결과 \n",
    "label = (data_x ** 2 + data_vy ** 2) < CLASS_RADIUS ** 2"
   ]
  },
  {
   "cell_type": "code",
   "execution_count": 53,
   "metadata": {},
   "outputs": [
    {
     "data": {
      "text/plain": [
       "<matplotlib.legend.Legend at 0xb345780>"
      ]
     },
     "execution_count": 53,
     "metadata": {},
     "output_type": "execute_result"
    },
    {
     "data": {
      "image/png": "[encoded data removed]",
      "text/plain": [
       "<Figure size 432x288 with 1 Axes>"
      ]
     },
     "metadata": {
      "needs_background": "light"
     },
     "output_type": "display_data"
    }
   ],
   "source": [
    "label_train = labels[idx_train] # 학습 데이터\n",
    "label_test = labels[idx_test] # 테스트 데이터\n",
    "\n",
    "# 클래스 그리기\n",
    "# 가까운것, 먼것, 학습, 테스트 4가지 산포도를 그린다.\n",
    "plt.scatter(x_train[label_train], \n",
    "            y_train[label_train],\n",
    "            c='r',\n",
    "            s=30, marker='*', label='near train')\n",
    "plt.scatter(x_train[label_train != True], \n",
    "            y_train[label_train != True], c='g',\n",
    "            s=30, marker='+', label='far train')\n",
    "plt.scatter(x_test[label_test], \n",
    "            y_test[label_test], c='b',\n",
    "            s=30, marker='^', label='near test')\n",
    "plt.scatter(x_test[label_test != True], \n",
    "            y_test[label_test != True], c='k',\n",
    "            s=30, marker='x', label='near test')\n",
    "\n",
    "# 원래 선을 표시\n",
    "plt.plot(data_x, data_ty, linestyle=':', label='non noise curve') \n",
    "\n",
    "# 클래스를 구분하는 원 표시\n",
    "circle = plt.Circle((0,0), CLASS_RADIUS, alpha=0.1, label='near area')\n",
    "ax = plt.gca() # 현재의 axes 객체를 가져옴\n",
    "ax.add_patch(circle) #만든 원을 axes 객체에 추가\n",
    "\n",
    "# 축 범위 설정\n",
    "plt.xlim(x_min, x_max)\n",
    "plt.ylim(y_min, y_max)\n",
    "\n",
    "# 범례 표시\n",
    "plt.legend(bbox_to_anchor=(1.05,1), loc='upper left')"
   ]
  },
  {
   "cell_type": "markdown",
   "metadata": {},
   "source": [
    "### 학습 및 결과"
   ]
  },
  {
   "cell_type": "code",
   "execution_count": 57,
   "metadata": {},
   "outputs": [],
   "source": [
    "from sklearn import svm\n",
    "from sklearn.metrics import confusion_matrix,accuracy_score\n",
    "\n",
    "data_train = np.c_[x_train, y_train]\n",
    "data_test = np.c_[x_test, y_test]\n",
    "\n",
    "\n",
    "# SVM 분류기를 작성, 학습\n",
    "classifier = svm.SVC(gamma = 1)\n",
    "classifier.fit(data_train, label_train.reshape(-1))\n",
    "\n",
    "# Test 데이터로 평가\n",
    "pred_test = classifier.predict(data_test)"
   ]
  },
  {
   "cell_type": "code",
   "execution_count": 59,
   "metadata": {},
   "outputs": [
    {
     "name": "stdout",
     "output_type": "stream",
     "text": [
      "accuracy_score:\n",
      " 0.95\n"
     ]
    }
   ],
   "source": [
    "# Accuracy를 표시 (테스트 데이터 전체의 정답률)\n",
    "print('accuracy_score:\\n', \n",
    "      accuracy_score(label_test.reshape(-1),\n",
    "                                          pred_test))"
   ]
  },
  {
   "cell_type": "code",
   "execution_count": 60,
   "metadata": {},
   "outputs": [
    {
     "name": "stdout",
     "output_type": "stream",
     "text": [
      "Confusion matrix:\n",
      " [[35  3]\n",
      " [ 0 22]]\n"
     ]
    }
   ],
   "source": [
    "# 분류 결과 출력\n",
    "print('Confusion matrix:\\n',\n",
    "      confusion_matrix(label_test.reshape(-1),pred_test))"
   ]
  },
  {
   "cell_type": "markdown",
   "metadata": {},
   "source": [
    "### 회귀 예시\n",
    "1차원, 2차원, 9차원의 다항식으로 회귀를 진행"
   ]
  },
  {
   "cell_type": "code",
   "execution_count": 63,
   "metadata": {},
   "outputs": [
    {
     "data": {
      "text/plain": [
       "[<matplotlib.lines.Line2D at 0xb361d30>]"
      ]
     },
     "execution_count": 63,
     "metadata": {},
     "output_type": "execute_result"
    },
    {
     "data": {
      "image/png": "[encoded data removed]",
      "text/plain": [
       "<Figure size 432x288 with 1 Axes>"
      ]
     },
     "metadata": {
      "needs_background": "light"
     },
     "output_type": "display_data"
    }
   ],
   "source": [
    "from sklearn import linear_model\n",
    "\n",
    "X1_TRAIN = x_train\n",
    "X1_TEST = x_test\n",
    "\n",
    "model = linear_model.LinearRegression()\n",
    "model.fit(X1_TRAIN, y_train)\n",
    "\n",
    "plt.plot(x_test, model.predict(X1_TEST), \n",
    "         linestyle='-.', label='poly deg 1')\n",
    "\n",
    "# x 값\n",
    "X2_TRAIN = np.c_[x_train**2, x_train]\n",
    "X2_TEST = np.c_[x_test**2, x_test]\n",
    "\n",
    "# 학습\n",
    "model = linear_model.LinearRegression()\n",
    "model.fit(X2_TRAIN, y_train)\n",
    "# 그래프로 그리기\n",
    "plt.plot(x_test, model.predict(X2_TEST), linestyle='--', label='poly deg 2')"
   ]
  },
  {
   "cell_type": "code",
   "execution_count": null,
   "metadata": {},
   "outputs": [],
   "source": []
  }
 ],
 "metadata": {
  "kernelspec": {
   "display_name": "Python 3",
   "language": "python",
   "name": "python3"
  },
  "language_info": {
   "codemirror_mode": {
    "name": "ipython",
    "version": 3
   },
   "file_extension": ".py",
   "mimetype": "text/x-python",
   "name": "python",
   "nbconvert_exporter": "python",
   "pygments_lexer": "ipython3",
   "version": "3.6.4"
  }
 },
 "nbformat": 4,
 "nbformat_minor": 2
}
