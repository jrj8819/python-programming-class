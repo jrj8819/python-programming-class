{
 "cells": [
  {
   "cell_type": "markdown",
   "metadata": {},
   "source": [
    "## 분류 문제\n",
    "지도 학습 데이터(정답이 있는 데이터)에 따라 학습하여 미지의 데이터를 분류하는 문제\n",
    "- 예) 색상과 크기로 과일 분류\n",
    "![](./img/6.png)\n",
    "\n",
    "- 예)미지의 데이터 분류하기\n",
    "![/img/7.png](./img/7.png)"
   ]
  },
  {
   "cell_type": "markdown",
   "metadata": {},
   "source": [
    "## 손글자 분류 하기\n",
    "### digit 데이터셋\n",
    "digit 데이터셋은 0부터 9까지 손으로 쓴 숫자 이미지로 구성, 8x8 픽셀 흑백 이미지의 1797장이 들어 있음"
   ]
  },
  {
   "cell_type": "code",
   "execution_count": 1,
   "metadata": {},
   "outputs": [],
   "source": [
    "import matplotlib.pyplot as plt\n",
    "from sklearn import datasets"
   ]
  },
  {
   "cell_type": "code",
   "execution_count": 2,
   "metadata": {},
   "outputs": [
    {
     "data": {
      "image/png": "[encoded data removed]",
      "text/plain": [
       "<Figure size 432x288 with 10 Axes>"
      ]
     },
     "metadata": {},
     "output_type": "display_data"
    }
   ],
   "source": [
    "digits = datasets.load_digits()\n",
    "\n",
    "for label, img in zip(digits.target[:10], digits.images[:10]):\n",
    "    plt.subplot(2,5,label+1)\n",
    "    plt.axis('off')\n",
    "    plt.imshow(img, cmap=plt.cm.gray_r, interpolation='nearest')\n",
    "    plt.title('Digit:%d' % label)\n",
    "    "
   ]
  },
  {
   "cell_type": "markdown",
   "metadata": {},
   "source": [
    "### 분류기를 만들어 평가"
   ]
  },
  {
   "cell_type": "markdown",
   "metadata": {},
   "source": [
    "scikit-learn을 사용해 3과8 이미지 데이터를 분류하는 분류기를 작성"
   ]
  },
  {
   "cell_type": "code",
   "execution_count": 4,
   "metadata": {},
   "outputs": [],
   "source": [
    "import numpy as np\n",
    "from sklearn import datasets"
   ]
  },
  {
   "cell_type": "markdown",
   "metadata": {},
   "source": [
    "#### 데이터 생성"
   ]
  },
  {
   "cell_type": "code",
   "execution_count": 26,
   "metadata": {},
   "outputs": [],
   "source": [
    "digits = datasets.load_digits()\n",
    "flag_3_8 = (digits.target==3)+(digits.target==8)\n",
    "\n",
    "images = digits.images[flag_3_8]\n",
    "labels = digits.target[flag_3_8]\n",
    "\n",
    "images = images.reshape(images.shape[0],-1)"
   ]
  },
  {
   "cell_type": "markdown",
   "metadata": {},
   "source": [
    "#### 모델 생성 및 학습"
   ]
  },
  {
   "cell_type": "code",
   "execution_count": 35,
   "metadata": {},
   "outputs": [],
   "source": [
    "from sklearn import tree"
   ]
  },
  {
   "cell_type": "code",
   "execution_count": 36,
   "metadata": {},
   "outputs": [
    {
     "data": {
      "text/plain": [
       "DecisionTreeClassifier(class_weight=None, criterion='gini', max_depth=None,\n",
       "            max_features=None, max_leaf_nodes=None,\n",
       "            min_impurity_decrease=0.0, min_impurity_split=None,\n",
       "            min_samples_leaf=1, min_samples_split=2,\n",
       "            min_weight_fraction_leaf=0.0, presort=False, random_state=None,\n",
       "            splitter='best')"
      ]
     },
     "execution_count": 36,
     "metadata": {},
     "output_type": "execute_result"
    }
   ],
   "source": [
    "n_samples = len(flag_3_8[flag_3_8])\n",
    "train_size = int(n_samples * 3 / 5)\n",
    "classifier = tree.DecisionTreeClassifier()\n",
    "classifier.fit(images[:train_size], labels[:train_size])"
   ]
  },
  {
   "cell_type": "markdown",
   "metadata": {},
   "source": [
    "#### 성능 평가"
   ]
  },
  {
   "cell_type": "code",
   "execution_count": 37,
   "metadata": {},
   "outputs": [
    {
     "name": "stdout",
     "output_type": "stream",
     "text": [
      "Accuracy :  0.8811188811188811\n"
     ]
    }
   ],
   "source": [
    "from sklearn import metrics\n",
    "\n",
    "expected = labels[train_size:]\n",
    "predicted = classifier.predict(images[train_size:])\n",
    "print('Accuracy : ', metrics.accuracy_score(expected, predicted))"
   ]
  },
  {
   "cell_type": "markdown",
   "metadata": {},
   "source": [
    "### 분류기 성능 평가\n",
    "#### 분류기의 성능 지표\n",
    "2분류 중 Positive와 Negative중 하나를 반환하는 분류기가 있고 각자 분류된 결과의 정답과 오답이 있다고 하면 다음과 같은 혼동행렬(confusion matrix)이 만들어진다. \n",
    "![./5.png](./img/5.png)\n",
    "행령에서 예측 결과가 맞다면 True, 틀리면 False라고 생각하자. True Positive는 Positive라는 예측이 정답인 상태이고, False Positive라면 Positive라는 예측이 오답이라는 의미이다."
   ]
  },
  {
   "cell_type": "markdown",
   "metadata": {},
   "source": [
    "다음 4가지는 분류기의 성능지표로 활용된다.\n",
    "![./img/8.png](./img/8.png)"
   ]
  },
  {
   "cell_type": "markdown",
   "metadata": {},
   "source": [
    "- 정답률 : 전체 예측 안에서 정답이 있는 비율\n",
    "- 적합률 : Positive로 예측했을 때 예측이 맞아 진짜로 Positive인 비율\n",
    "- 재현률 : 실제로 Positive인 것을 분류기가 얼마나 Positive라고 예측하였는지 나타내는 비율(실제로 Positive인 것 중에 어느 정도로 검출할 수 있는지 가늠)\n",
    "    - 적합률과 재현률은 Negative 레이블 기준으로도 정의 가능\n",
    "- F값 : 적합률과 재현률의 조화평균을 내어 계산한 지표 \n",
    "![./img/9.png](./img/9.png)"
   ]
  },
  {
   "cell_type": "markdown",
   "metadata": {},
   "source": [
    "#### 평가 성능 알아보기"
   ]
  },
  {
   "cell_type": "code",
   "execution_count": 8,
   "metadata": {},
   "outputs": [
    {
     "name": "stdout",
     "output_type": "stream",
     "text": [
      "Accuracy :  0.8531468531468531\n",
      "Confusion matrix :\n",
      " [[59 16]\n",
      " [ 5 63]]\n",
      "Precision :  0.921875\n",
      "Recall :  0.7866666666666666\n",
      "F-measure :  0.8489208633093526\n",
      "**************************************************\n",
      "Precision :  0.7974683544303798\n",
      "Recall :  0.9264705882352942\n",
      "F-measure :  0.8571428571428572\n"
     ]
    }
   ],
   "source": [
    "print('Accuracy : ', metrics.accuracy_score(expected, predicted))\n",
    "\n",
    "print('Confusion matrix :\\n', metrics.confusion_matrix(expected, predicted))\n",
    "\n",
    "print('Precision : ', metrics.precision_score(expected, predicted, pos_label=3))\n",
    "\n",
    "print('Recall : ', metrics.recall_score(expected, predicted, pos_label=3))\n",
    "\n",
    "print('F-measure : ', metrics.f1_score(expected, predicted, pos_label=3))\n",
    "\n",
    "print(\"*\"*50)\n",
    "\n",
    "print('Precision : ', metrics.precision_score(expected, predicted, pos_label=8))\n",
    "\n",
    "print('Recall : ', metrics.recall_score(expected, predicted, pos_label=8))\n",
    "\n",
    "print('F-measure : ', metrics.f1_score(expected, predicted, pos_label=8))"
   ]
  },
  {
   "cell_type": "markdown",
   "metadata": {},
   "source": [
    "#### 성능 지표 해석\n",
    "\n"
   ]
  },
  {
   "cell_type": "markdown",
   "metadata": {},
   "source": [
    "어떤 공장에서 제품의 결함을 찾는 분류기가 있다 성능지표가 아래와 같을 때 해석해보면,\n",
    "- 정답률 : 98.6%\n",
    "- 정상\n",
    "    - 적합률 : 99.1% \n",
    "    - 재현률 : 99.5%\n",
    "- 결함\n",
    "    - 적합률 : 81.2%\n",
    "    - 재현률 : 68.6%\n",
    "\n"
   ]
  },
  {
   "cell_type": "markdown",
   "metadata": {},
   "source": [
    "- 제품을 정상으로 예측하였을 때 실제로 정상인 경우(정상 적합률) : 99.1%\n",
    "- 제품을 정상으로 예측하였으나 실제는 결함인 경우 : 0.9%\n",
    "- 제품이 실제로 정상이고 예측을 정상으로 한 경우(정상 재현율) : 99.5%\n",
    "- 제품이 실제로 정상이지만 예측을 결함으로 한 경우 : 0.5%\n"
   ]
  },
  {
   "cell_type": "markdown",
   "metadata": {},
   "source": [
    "\n",
    "- 제품을 결함으로 예측하였을 때 실제로 결함인 경우(결함 적합률) : 81.2%\n",
    "- 제품을 결함으로 예측하였으나 실제로는 정상인 경우 : 17.8%\n",
    "- 제품이 실제로 결함이고 예측을 결함으로 한 경우(결함 재현률) : 68.6%\n",
    "- 제품이 실제로 결함이지만 예측을 정상으로 한 경우 : 31.4%\n",
    "\n"
   ]
  },
  {
   "cell_type": "markdown",
   "metadata": {},
   "source": [
    "- 정상일 경우는 훌륭하지만 결함을 보면 결함으로 예측한 제품이 실제로는 정상이었던 오류가 17.8%가 발생하고, 결함제품이지만 정상으로 예측하여 결함된 제품이 출하되는 경우가 31.4%나 된다."
   ]
  },
  {
   "cell_type": "markdown",
   "metadata": {},
   "source": [
    "적합률과 재현률은 의미가 다르므로 문제에 따라 어느 것을 중시해야 될지 선택해야 함, 레이블의 종합적인 분류 성능을 파악하고 싶다면 F값을 사용한다(높을 수록 좋다)."
   ]
  },
  {
   "attachments": {},
   "cell_type": "markdown",
   "metadata": {},
   "source": [
    "### 여러가지 분류기\n",
    "#### 결정트리 (Decision Tree)\n",
    "결정 트리는 데이터를 여러 등급으로 분류하는 지도학습으로 트리 구조를 이용한 분류 알고리즘이다. 분류 대상의 데이터의 속성에 따라 분류한다.\n",
    "![./img/11.png](./img/11.png)\n",
    "![./img/23.png](./img/23.png)"
   ]
  },
  {
   "cell_type": "code",
   "execution_count": 39,
   "metadata": {},
   "outputs": [
    {
     "data": {
      "image/png": "[encoded data removed]",
      "text/plain": [
       "<Figure size 432x288 with 2 Axes>"
      ]
     },
     "metadata": {},
     "output_type": "display_data"
    }
   ],
   "source": [
    "digits = datasets.load_digits()\n",
    "t = 1\n",
    "for label, img in zip(digits.target[:10], digits.images[:10]):\n",
    "    if label == 3 or label == 8:\n",
    "        plt.subplot(1,2,t)\n",
    "        t +=1\n",
    "        plt.axis('off')\n",
    "        plt.imshow(img, cmap=plt.cm.gray_r, interpolation='nearest')\n",
    "        plt.title('Digit:%d' % label)"
   ]
  },
  {
   "cell_type": "markdown",
   "metadata": {},
   "source": [
    "#### 랜덤 포레스트 (Random Forest)\n",
    "전체 학습 데이터 중에서 중복이나 누락을 허용하여 학습 데이터셋을 여러개 추출한다.\n",
    "![./img/12.png](./img/12.png)\n",
    "그 일부 속성을 사용해 부분적인 결정 트리를 생성한다. 결정 트리를 조합해 성능이 높은 모델을 만든다.\n",
    "![./img/13.png](./img/13.png)\n",
    "##### 분류기 생성"
   ]
  },
  {
   "cell_type": "code",
   "execution_count": 41,
   "metadata": {},
   "outputs": [
    {
     "data": {
      "text/plain": [
       "RandomForestClassifier(bootstrap=True, class_weight=None, criterion='gini',\n",
       "            max_depth=3, max_features='auto', max_leaf_nodes=None,\n",
       "            min_impurity_decrease=0.0, min_impurity_split=None,\n",
       "            min_samples_leaf=1, min_samples_split=2,\n",
       "            min_weight_fraction_leaf=0.0, n_estimators=20, n_jobs=1,\n",
       "            oob_score=False, random_state=None, verbose=0,\n",
       "            warm_start=False)"
      ]
     },
     "execution_count": 41,
     "metadata": {},
     "output_type": "execute_result"
    }
   ],
   "source": [
    "from sklearn import ensemble\n",
    "classifier = ensemble.RandomForestClassifier(n_estimators=20,\n",
    "                                             max_depth=3,\n",
    "                                             criterion='gini')\n",
    "classifier.fit(images[:train_size], labels[:train_size])"
   ]
  },
  {
   "cell_type": "markdown",
   "metadata": {},
   "source": [
    "##### 분류기 성능 평가"
   ]
  },
  {
   "cell_type": "code",
   "execution_count": 42,
   "metadata": {},
   "outputs": [
    {
     "name": "stdout",
     "output_type": "stream",
     "text": [
      "Accuracy:\n",
      " 0.8811188811188811\n",
      "Confusion matrix:\n",
      " [[61 14]\n",
      " [ 3 65]]\n",
      "Precision:\n",
      " 0.953125\n",
      "Recall:\n",
      " 0.8133333333333334\n",
      "F-measure:\n",
      " 0.8776978417266187\n",
      "**************************************************\n",
      "Precision:\n",
      " 0.8227848101265823\n",
      "Recall:\n",
      " 0.9558823529411765\n",
      "F-measure:\n",
      " 0.8843537414965986\n"
     ]
    }
   ],
   "source": [
    "expected = labels[train_size:]\n",
    "predicted = classifier.predict(images[train_size:])\n",
    "\n",
    "print('Accuracy:\\n',\n",
    "      metrics.accuracy_score(expected, predicted))\n",
    "print('Confusion matrix:\\n',\n",
    "      metrics.confusion_matrix(expected, predicted))\n",
    "print('Precision:\\n',\n",
    "      metrics.precision_score(expected, predicted, pos_label=3))\n",
    "print('Recall:\\n',\n",
    "      metrics.recall_score(expected, predicted, pos_label=3))\n",
    "print('F-measure:\\n',\n",
    "      metrics.f1_score(expected, predicted, pos_label=3))\n",
    "\n",
    "print(\"*\"*50)\n",
    "\n",
    "print('Precision:\\n',\n",
    "      metrics.precision_score(expected, predicted, pos_label=8))\n",
    "print('Recall:\\n',\n",
    "      metrics.recall_score(expected, predicted, pos_label=8))\n",
    "print('F-measure:\\n',\n",
    "      metrics.f1_score(expected, predicted, pos_label=8))"
   ]
  },
  {
   "cell_type": "markdown",
   "metadata": {},
   "source": [
    "## 회귀 문제\n",
    "### 최소제곱법의 아이디어\n",
    "데이터를 평면상의 점으로 생각하고 관계를 선으로 표현할 때 어느 선이 가장 데이터를 잘 나타내는 것은 어떤 것인가?\n",
    "![./img/14.png](./img/14.png)\n",
    "\n",
    "<br>\n",
    "<br>\n",
    "<br>\n",
    "<br>\n",
    "실제값(y)과 예측값(f(x)) 차이에 대한 제곱의 곱을 구성하고 이 값을 최소화\n",
    "![./img/15.png](./img/15.png)\n",
    "### 선형 회귀\n",
    "변수는 어떤 데이터셋에서 속성값 하나를 의미하고, 변수 하나(y = aX + b)로 성립할 수 있는 단순 회귀를 알아보자\n",
    "y = 3x - 2로 데이터를 작성하자."
   ]
  },
  {
   "cell_type": "code",
   "execution_count": 43,
   "metadata": {},
   "outputs": [
    {
     "data": {
      "text/plain": [
       "<matplotlib.collections.PathCollection at 0x1a14bd7be0>"
      ]
     },
     "execution_count": 43,
     "metadata": {},
     "output_type": "execute_result"
    },
    {
     "data": {
      "image/png": "[encoded data removed]",
      "text/plain": [
       "<Figure size 432x288 with 1 Axes>"
      ]
     },
     "metadata": {},
     "output_type": "display_data"
    }
   ],
   "source": [
    "import matplotlib.pyplot as plt\n",
    "import numpy as np\n",
    "\n",
    "x = np.random.rand(100, 1)\n",
    "x = x * 4 - 2\n",
    "y = 3 * x - 2\n",
    "plt.scatter(x,y,marker='+')"
   ]
  },
  {
   "cell_type": "markdown",
   "metadata": {},
   "source": [
    "sciket-learn에서 최소제곱법을 구현한 LinearRegression 을 활용하여 계산해보자"
   ]
  },
  {
   "cell_type": "code",
   "execution_count": 44,
   "metadata": {},
   "outputs": [
    {
     "data": {
      "text/plain": [
       "LinearRegression(copy_X=True, fit_intercept=True, n_jobs=1, normalize=False)"
      ]
     },
     "execution_count": 44,
     "metadata": {},
     "output_type": "execute_result"
    }
   ],
   "source": [
    "from sklearn import linear_model\n",
    "\n",
    "model = linear_model.LinearRegression()\n",
    "model.fit(x,y)"
   ]
  },
  {
   "cell_type": "markdown",
   "metadata": {},
   "source": [
    "직선의 함수식 y = aX + b에서 a계수는 model.coef_를 확인하고 절편 b는 model.intercept)로 확인한다."
   ]
  },
  {
   "cell_type": "code",
   "execution_count": 45,
   "metadata": {},
   "outputs": [
    {
     "name": "stdout",
     "output_type": "stream",
     "text": [
      "[[3.]]\n",
      "[-2.]\n"
     ]
    }
   ],
   "source": [
    "print(model.coef_)\n",
    "print(model.intercept_)"
   ]
  },
  {
   "cell_type": "markdown",
   "metadata": {},
   "source": [
    "결과로 y = 3X - 2가 된다. 다음은 난수로 오차를 준 경우이다."
   ]
  },
  {
   "cell_type": "code",
   "execution_count": 46,
   "metadata": {},
   "outputs": [
    {
     "name": "stdout",
     "output_type": "stream",
     "text": [
      "[[3.07094382]]\n",
      "[-1.92047854]\n"
     ]
    },
    {
     "data": {
      "image/png": "[encoded data removed]",
      "text/plain": [
       "<Figure size 432x288 with 1 Axes>"
      ]
     },
     "metadata": {},
     "output_type": "display_data"
    }
   ],
   "source": [
    "x = np.random.rand(100,1)\n",
    "x = x * 4 - 2\n",
    "y = 3 * x - 2\n",
    "\n",
    "y += np.random.randn(100, 1)\n",
    "\n",
    "model = linear_model.LinearRegression()\n",
    "model.fit(x,y)\n",
    "\n",
    "plt.scatter(x, y, marker='+')\n",
    "plt.scatter(x, model.predict(x), marker='o')\n",
    "\n",
    "print(model.coef_)\n",
    "print(model.intercept_)"
   ]
  },
  {
   "cell_type": "markdown",
   "metadata": {},
   "source": [
    "### 회귀의 평가 : 결정 계수\n",
    "회귀에서 결과의 타당성을 객관적으로 평가하는 지표로 R<sup>2</sup> 결정 계수가 있다.\n",
    "![./img/16.png](./img/16.png)\n",
    "관측값과 예측값의 차이가 적으면 결정 계수는 1에 가까워지며, 차이가 크면 멀어진다.\n",
    "따라서 결정 계수 값이 1에 가까워 질 수록 좋은 모델이라 할 수 있다. sklearn.linear_model의 각 클래스에는 score 함수를 활용하여 결정 계수를 구할 수 있다."
   ]
  },
  {
   "cell_type": "code",
   "execution_count": 47,
   "metadata": {},
   "outputs": [
    {
     "name": "stdout",
     "output_type": "stream",
     "text": [
      "0.9352146150382689\n"
     ]
    }
   ],
   "source": [
    "print(model.score(x,y))"
   ]
  },
  {
   "cell_type": "markdown",
   "metadata": {},
   "source": [
    "### y = aX<sup>2</sup> + b 를 구한다"
   ]
  },
  {
   "cell_type": "code",
   "execution_count": 48,
   "metadata": {},
   "outputs": [
    {
     "name": "stdout",
     "output_type": "stream",
     "text": [
      "계수 [[3.02288969]]\n",
      "절편 [-1.92454171]\n",
      "결정계수 0.9380280536948059\n"
     ]
    },
    {
     "data": {
      "image/png": "[encoded data removed]",
      "text/plain": [
       "<Figure size 432x288 with 1 Axes>"
      ]
     },
     "metadata": {},
     "output_type": "display_data"
    }
   ],
   "source": [
    "import matplotlib.pyplot as plt\n",
    "import numpy as np\n",
    "\n",
    "\n",
    "### 분산 y = 3x -2 데이터를 생성\n",
    "\n",
    "x = np.random.rand(100, 1)  # 0~1까지 난수를 100개 만든다\n",
    "x = x * 4 - 2               # 값의 범위를 -2~2로 변경\n",
    "\n",
    "y = 3 * x**2 - 2  # y = 3x^2 - 2\n",
    "\n",
    "y += np.random.randn(100, 1)  # 표준 정규 분포(평균 0, 표준 편차 1)의 난수를 추가함\n",
    "\n",
    "\n",
    "### 학습\n",
    "\n",
    "from sklearn import linear_model\n",
    "\n",
    "\n",
    "model = linear_model.LinearRegression()\n",
    "model.fit(x**2, y)  # x를 제곱해 전달\n",
    "\n",
    "\n",
    "### 계수, 절편, 결정 계수를 표시\n",
    "\n",
    "print('계수', model.coef_)\n",
    "print('절편', model.intercept_)\n",
    "\n",
    "print('결정계수', model.score(x**2, y))\n",
    "\n",
    "\n",
    "### 그래프 표시\n",
    "\n",
    "plt.scatter(x, y, marker ='+')\n",
    "plt.scatter(x, model.predict(x**2), marker='o')  # predict에도 x를 제곱해 전달\n",
    "plt.show()"
   ]
  },
  {
   "cell_type": "markdown",
   "metadata": {},
   "source": [
    "### 다중 회귀\n",
    "다중 회귀는 변수(데이터 셋에서 여러 칼럼)를 여러개 사용하는 식(y = aX<sub>1</sub> + bX<sub>2</sub> + d)를 상정해 푸는 회귀문제이다. 다음과 같이 데이터를 구하자"
   ]
  },
  {
   "cell_type": "code",
   "execution_count": 49,
   "metadata": {},
   "outputs": [
    {
     "data": {
      "text/plain": [
       "Text(0, 0.5, 'y')"
      ]
     },
     "execution_count": 49,
     "metadata": {},
     "output_type": "execute_result"
    },
    {
     "data": {
      "image/png": "[encoded data removed]",
      "text/plain": [
       "<Figure size 432x288 with 2 Axes>"
      ]
     },
     "metadata": {},
     "output_type": "display_data"
    }
   ],
   "source": [
    "import matplotlib.pyplot as plt\n",
    "import numpy as np\n",
    "\n",
    "x1 = np.random.rand( 100, 1 )   # 0~1까지 난수를 100개 만들\n",
    "x1 = x1 * 4 - 2                 # 값의 범위를 -2~2로 변경\n",
    "\n",
    "x2 = np.random.rand( 100, 1 )   # x2에 대해서도 마찬가지\n",
    "x2 = x2 * 4 - 2\n",
    "\n",
    "y = 3 * x1 - 2 * x2 + 1\n",
    "\n",
    "y += np.random.randn( 100, 1 )    # 표준 정규 분포(평균0, 표준 편차1)\n",
    "                                 # 난수를 더한다\n",
    "plt.subplot( 1, 2, 1 )\n",
    "plt.scatter( x1, y, marker='+' )\n",
    "plt.xlabel( 'x1' )\n",
    "plt.ylabel( 'y' )\n",
    "\n",
    "plt.subplot( 1, 2, 2 )\n",
    "plt.scatter( x2, y, marker='+' )\n",
    "plt.xlabel( 'x2' )\n",
    "plt.ylabel( 'y' )"
   ]
  },
  {
   "cell_type": "code",
   "execution_count": 50,
   "metadata": {},
   "outputs": [
    {
     "name": "stdout",
     "output_type": "stream",
     "text": [
      "계수 [[ 2.98895385 -2.11507816]]\n",
      "절편 [1.0050169]\n",
      "결정계수 0.9529086052490223\n"
     ]
    },
    {
     "data": {
      "text/plain": [
       "Text(0, 0.5, 'y')"
      ]
     },
     "execution_count": 50,
     "metadata": {},
     "output_type": "execute_result"
    },
    {
     "data": {
      "image/png": "[encoded data removed]",
      "text/plain": [
       "<Figure size 432x288 with 2 Axes>"
      ]
     },
     "metadata": {},
     "output_type": "display_data"
    }
   ],
   "source": [
    "from sklearn import linear_model\n",
    "\n",
    "\n",
    "x1_x2 = np.c_[x1, x2]  # [[x1_1, x2_1], [x1_2, x2_2], ..., [x1_100, x2_100]]\n",
    "                       # 형태로 변환\n",
    "\n",
    "model = linear_model.LinearRegression()\n",
    "model.fit(x1_x2, y)\n",
    "\n",
    "\n",
    "### 계수, 절편, 결정 계수를 표시\n",
    "\n",
    "print('계수', model.coef_)\n",
    "print('절편', model.intercept_)\n",
    "print('결정계수', model.score(x1_x2, y))\n",
    "\n",
    "### 그래프 표시\n",
    "\n",
    "y_ = model.predict(x1_x2)  # 구한 회귀식으로 예측\n",
    "\n",
    "plt.subplot(1, 2, 1)\n",
    "plt.scatter(x1, y, marker='+')\n",
    "plt.scatter(x1, y_, marker='o')\n",
    "plt.xlabel('x1')\n",
    "plt.ylabel('y')\n",
    "\n",
    "plt.subplot(1, 2, 2)\n",
    "plt.scatter(x2, y, marker='+')\n",
    "plt.scatter(x2, y_, marker='o')\n",
    "plt.xlabel('x2')\n",
    "plt.ylabel('y')"
   ]
  },
  {
   "cell_type": "markdown",
   "metadata": {},
   "source": [
    "계수와 절편을 통해 다음과 같은 다항식을 만들 수 있다."
   ]
  },
  {
   "cell_type": "code",
   "execution_count": 51,
   "metadata": {},
   "outputs": [
    {
     "name": "stdout",
     "output_type": "stream",
     "text": [
      "y = 2.9889538476209485X1 -2.1150781598343014X2 + [1.0050169]\n"
     ]
    }
   ],
   "source": [
    "print(\"y = %sX1 %sX2 + %s\" % (model.coef_[0][0], model.coef_[0][1], model.intercept_))"
   ]
  },
  {
   "cell_type": "markdown",
   "metadata": {},
   "source": [
    "## 클러스터링 문제"
   ]
  },
  {
   "cell_type": "markdown",
   "metadata": {},
   "source": [
    "클러스터링은 데이터의 성질에서 데이터 군집(클러스터)를 만드는 방법이다.\n",
    "2차원의 데이터를 산포도로 그리면 대략적인 배치와 구조를 알 수 있지만 다차원이고 대량이면 파악하기가 어렵다. 이를 위해 클러스터링을 활용하여 분류한다."
   ]
  },
  {
   "cell_type": "markdown",
   "metadata": {},
   "source": [
    "### k-means 클러스터링"
   ]
  },
  {
   "cell_type": "markdown",
   "metadata": {},
   "source": [
    "k-means 클러스터링은 클러스터 개수(k)를 미리 지정하고 데이터간의 거리를 통해 클러스터를 구성하는 방법이다.\n",
    "다음 순서로 진행된다.\n",
    "\n",
    "1. 클러스터의 갯수(그림에서는 5개의 빨간점)만큼 임의의 중심값(기준값)을 선택한다.\n",
    "![./img/17.png](./img/17.png)\n",
    "2. 각 데이터에서 중심값의 거리를 구한다. 데이터는 거리가 가장 짧은 중심점에 속한 클러스터로 소속된다.\n",
    "![./img/18.png](./img/18.png)\n",
    "3. 클러스터에 소속된 데이터끼리 중심점을 재계산한다.\n",
    "![./img/19.png](./img/19.png)\n",
    "4. 데이터들의 클러스터가 바뀌지 않을 때까지 2, 3을 반복한다.\n",
    "![./img/20.png](./img/20.png)\n",
    "\n",
    "최종 결과\n",
    "![./img/21.png](./img/21.png)"
   ]
  },
  {
   "cell_type": "markdown",
   "metadata": {},
   "source": [
    "### k-means 실행\n",
    "iris 데이터를 로드해 k-means에서 클러스터를 만들어 보자."
   ]
  },
  {
   "cell_type": "code",
   "execution_count": 52,
   "metadata": {},
   "outputs": [
    {
     "data": {
      "text/plain": [
       "KMeans(algorithm='auto', copy_x=True, init='k-means++', max_iter=300,\n",
       "    n_clusters=3, n_init=10, n_jobs=1, precompute_distances='auto',\n",
       "    random_state=None, tol=0.0001, verbose=0)"
      ]
     },
     "execution_count": 52,
     "metadata": {},
     "output_type": "execute_result"
    }
   ],
   "source": [
    "from sklearn import cluster\n",
    "from sklearn import datasets\n",
    "\n",
    "# iris 데이터를 로드\n",
    "iris = datasets.load_iris()\n",
    "data = iris[\"data\"]\n",
    "\n",
    "# 학습 → 클러스터 생성\n",
    "model = cluster.KMeans(n_clusters=3)\n",
    "model.fit(data)\n"
   ]
  },
  {
   "cell_type": "markdown",
   "metadata": {},
   "source": [
    "### 클러스터링 결과\n",
    "\n",
    "\n",
    "- cluster_centers_ : 클러스터의 중심좌표\n",
    "- labels_ : 각 점에 대한 레이블\n",
    "- inertia_ : 각 데이터 점에서 소속된 클러스터 중심까지 거리 총합\n",
    "    "
   ]
  },
  {
   "cell_type": "code",
   "execution_count": 53,
   "metadata": {},
   "outputs": [
    {
     "name": "stdout",
     "output_type": "stream",
     "text": [
      "[[5.006      3.418      1.464      0.244     ]\n",
      " [5.9016129  2.7483871  4.39354839 1.43387097]\n",
      " [6.85       3.07368421 5.74210526 2.07105263]]\n",
      "[0 0 0 0 0 0 0 0 0 0 0 0 0 0 0 0 0 0 0 0 0 0 0 0 0 0 0 0 0 0 0 0 0 0 0 0 0\n",
      " 0 0 0 0 0 0 0 0 0 0 0 0 0 1 1 2 1 1 1 1 1 1 1 1 1 1 1 1 1 1 1 1 1 1 1 1 1\n",
      " 1 1 1 2 1 1 1 1 1 1 1 1 1 1 1 1 1 1 1 1 1 1 1 1 1 1 2 1 2 2 2 2 1 2 2 2 2\n",
      " 2 2 1 1 2 2 2 2 1 2 1 2 1 2 2 1 1 2 2 2 2 2 1 2 2 2 2 1 2 2 2 1 2 2 2 1 2\n",
      " 2 1]\n",
      "78.94084142614602\n"
     ]
    }
   ],
   "source": [
    "print(model.cluster_centers_)\n",
    "print(model.labels_)\n",
    "print(model.inertia_)"
   ]
  },
  {
   "cell_type": "markdown",
   "metadata": {},
   "source": [
    "### 결과의 가시화"
   ]
  },
  {
   "cell_type": "code",
   "execution_count": 22,
   "metadata": {},
   "outputs": [
    {
     "data": {
      "text/plain": [
       "['sepal length (cm)',\n",
       " 'sepal width (cm)',\n",
       " 'petal length (cm)',\n",
       " 'petal width (cm)']"
      ]
     },
     "execution_count": 22,
     "metadata": {},
     "output_type": "execute_result"
    }
   ],
   "source": [
    "iris[\"feature_names\"]"
   ]
  },
  {
   "cell_type": "code",
   "execution_count": 27,
   "metadata": {},
   "outputs": [
    {
     "data": {
      "text/plain": [
       "Text(0.5, 1.0, 'k-means')"
      ]
     },
     "execution_count": 27,
     "metadata": {},
     "output_type": "execute_result"
    },
    {
     "data": {
      "image/png": "[encoded data removed]",
      "text/plain": [
       "<Figure size 432x288 with 1 Axes>"
      ]
     },
     "metadata": {},
     "output_type": "display_data"
    }
   ],
   "source": [
    "x_index = 2\n",
    "y_index = 3\n",
    "\n",
    "data_x=data[:,x_index]\n",
    "data_y=data[:,y_index]\n",
    "\n",
    "x_label = iris[\"feature_names\"][x_index]\n",
    "y_label = iris[\"feature_names\"][y_index]\n",
    "\n",
    "# 학습 결과의 라벨 취득\n",
    "labels = model.labels_\n",
    "\n",
    "# 삼포도 그리기\n",
    "plt.scatter(data_x[labels==0], data_y[labels==0],c='r' ,alpha=0.3, s=100, marker=\"o\")\n",
    "plt.scatter(data_x[labels==1], data_y[labels==1],c='g' ,alpha=0.3, s=100, marker=\"^\")\n",
    "plt.scatter(data_x[labels==2], data_y[labels==2],c='b' ,alpha=0.3, s=100, marker=\"*\")\n",
    "\n",
    "# 축 라벨과 타이틀 설정\n",
    "plt.xlabel(x_label,fontsize='20')\n",
    "plt.ylabel(y_label,fontsize='20')\n",
    "plt.title(\"k-means\",fontsize='20')\n"
   ]
  },
  {
   "cell_type": "markdown",
   "metadata": {},
   "source": [
    "### 혼동행렬을 통한 클러스터 분석"
   ]
  },
  {
   "cell_type": "code",
   "execution_count": 24,
   "metadata": {},
   "outputs": [
    {
     "name": "stdout",
     "output_type": "stream",
     "text": [
      "[[50  0  0]\n",
      " [ 0 48  2]\n",
      " [ 0 14 36]]\n"
     ]
    }
   ],
   "source": [
    "from sklearn import metrics\n",
    "print(metrics.confusion_matrix(iris['target'], model.labels_))"
   ]
  },
  {
   "cell_type": "code",
   "execution_count": 25,
   "metadata": {},
   "outputs": [
    {
     "data": {
      "text/plain": [
       "array(['setosa', 'versicolor', 'virginica'], dtype='<U10')"
      ]
     },
     "execution_count": 25,
     "metadata": {},
     "output_type": "execute_result"
    }
   ],
   "source": [
    "iris['target_names']"
   ]
  },
  {
   "cell_type": "markdown",
   "metadata": {},
   "source": [
    "![22.png](./img/22.png)"
   ]
  },
  {
   "cell_type": "code",
   "execution_count": null,
   "metadata": {},
   "outputs": [],
   "source": []
  },
  {
   "cell_type": "code",
   "execution_count": null,
   "metadata": {},
   "outputs": [],
   "source": []
  }
 ],
 "metadata": {
  "kernelspec": {
   "display_name": "Python 3",
   "language": "python",
   "name": "python3"
  },
  "language_info": {
   "codemirror_mode": {
    "name": "ipython",
    "version": 3
   },
   "file_extension": ".py",
   "mimetype": "text/x-python",
   "name": "python",
   "nbconvert_exporter": "python",
   "pygments_lexer": "ipython3",
   "version": "3.6.4"
  }
 },
 "nbformat": 4,
 "nbformat_minor": 2
}
