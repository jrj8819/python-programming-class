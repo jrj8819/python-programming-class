{
 "cells": [
  {
   "cell_type": "markdown",
   "metadata": {},
   "source": [
    "##### 680원 거스름돈 퀴즈"
   ]
  },
  {
   "cell_type": "code",
   "execution_count": 23,
   "metadata": {},
   "outputs": [
    {
     "name": "stdout",
     "output_type": "stream",
     "text": [
      "거스름돈을 입력해주세요 > 2111\n",
      "500원 : 4\n",
      "100원 : 1\n",
      "50원 : 0\n",
      "10원 : 1\n",
      "1원 : 1\n",
      "\n"
     ]
    }
   ],
   "source": [
    "money = int(input(\"거스름돈을 입력해주세요 > \"))\n",
    "coin_500 = 0\n",
    "coin_100 = 0\n",
    "coin_50 = 0\n",
    "coin_10 = 0\n",
    "coin_1 = 0\n",
    "\n",
    "while money >= 500:\n",
    "\tmoney -= 500\n",
    "\tcoin_500 += 1\n",
    "\n",
    "while money >= 100:\n",
    "\tmoney -= 100\n",
    "\tcoin_100 += 1\n",
    "\n",
    "while money >= 50:\n",
    "\tmoney -= 50\n",
    "\tcoin_50 += 1\n",
    "\n",
    "while money >= 10:\n",
    "\tmoney -= 10\n",
    "\tcoin_10 += 1\n",
    "\n",
    "coin_1 = money\n",
    "\n",
    "print(\"500원 : %d\\n100원 : %d\\n50원 : %d\\n10원 : %d\\n1원 : %d\\n\" % (coin_500, coin_100, coin_50, coin_10, coin_1))"
   ]
  },
  {
   "cell_type": "code",
   "execution_count": 24,
   "metadata": {},
   "outputs": [
    {
     "name": "stdout",
     "output_type": "stream",
     "text": [
      "거스름돈을 입력해주세요 > 1111\n",
      "500원 : 2\n",
      "100원 : 1\n",
      "50원 : 0\n",
      "10원 : 1\n",
      "1원 : 1\n",
      "\n"
     ]
    }
   ],
   "source": [
    "money = int(input(\"거스름돈을 입력해주세요 > \"))\n",
    "\n",
    "# key 0, 1, 2, 3, 4\n",
    "# mean 500 100 50 10 1\n",
    "\n",
    "emun_coins = { 0 : 500, 1 : 100, 2 : 50, 3 : 10, 4 : 1 }\n",
    "check_coin = 0\n",
    "\n",
    "count_coins = { 0 : 0, 1 : 0, 2 : 0, 3 : 0, 4 : 0 }\n",
    "\n",
    "while True:\n",
    "\tif money >= emun_coins[check_coin]:\n",
    "\t\tcount_coins[check_coin] = money // emun_coins[check_coin]\n",
    "\t\tmoney -= (count_coins[check_coin] * emun_coins[check_coin]) \n",
    "\t\n",
    "\tcheck_coin += 1\n",
    "\n",
    "\tif money <= 0:\n",
    "\t\tbreak;\n",
    "\n",
    "print(\"500원 : %d\\n100원 : %d\\n50원 : %d\\n10원 : %d\\n1원 : %d\\n\" % (\n",
    "\tcount_coins[0], count_coins[1], count_coins[2], count_coins[3], count_coins[4]))\n"
   ]
  },
  {
   "cell_type": "markdown",
   "metadata": {},
   "source": [
    "기본구조 설명"
   ]
  },
  {
   "cell_type": "code",
   "execution_count": 25,
   "metadata": {},
   "outputs": [],
   "source": [
    "a = [(1,2), (3,4), (5,6)]"
   ]
  },
  {
   "cell_type": "code",
   "execution_count": 26,
   "metadata": {},
   "outputs": [
    {
     "name": "stdout",
     "output_type": "stream",
     "text": [
      "3\n",
      "7\n",
      "11\n"
     ]
    }
   ],
   "source": [
    "for (f, l) in a:\n",
    "    print(f + l)"
   ]
  },
  {
   "cell_type": "code",
   "execution_count": 27,
   "metadata": {},
   "outputs": [
    {
     "name": "stdout",
     "output_type": "stream",
     "text": [
      "a 1\n",
      "b 2\n",
      "c 3\n"
     ]
    }
   ],
   "source": [
    "l1 = ['a', 'b', 'c']\n",
    "l2 = [1, 2, 3]\n",
    "for i, j in zip(l1, l2):\n",
    "    print(\"%s %d\" % (i, j))"
   ]
  },
  {
   "cell_type": "markdown",
   "metadata": {},
   "source": [
    "##### Quiz 2단 출력하기"
   ]
  },
  {
   "cell_type": "code",
   "execution_count": 28,
   "metadata": {},
   "outputs": [
    {
     "name": "stdout",
     "output_type": "stream",
     "text": [
      "2 X 1 = 2\n",
      "2 X 2 = 4\n",
      "2 X 3 = 6\n",
      "2 X 4 = 8\n",
      "2 X 5 = 10\n",
      "2 X 6 = 12\n",
      "2 X 7 = 14\n",
      "2 X 8 = 16\n",
      "2 X 9 = 18\n"
     ]
    }
   ],
   "source": [
    "times = [1,2,3,4,5,6,7,8,9]\n",
    "number = 2\n",
    "\n",
    "for time in times:\n",
    "    print(\"%d X %d = %d\" % (number, time, (time * number)))"
   ]
  },
  {
   "cell_type": "markdown",
   "metadata": {},
   "source": [
    "continue 문"
   ]
  },
  {
   "cell_type": "code",
   "execution_count": 29,
   "metadata": {},
   "outputs": [
    {
     "name": "stdout",
     "output_type": "stream",
     "text": [
      "2 X 1 = 2\n",
      "2 X 2 = 4\n",
      "2 X 4 = 8\n",
      "2 X 5 = 10\n",
      "2 X 7 = 14\n",
      "2 X 8 = 16\n"
     ]
    }
   ],
   "source": [
    "times = [1,2,3,4,5,6,7,8,9]\n",
    "number = 2\n",
    "\n",
    "for time in times:\n",
    "    if time % 3 != 0:\n",
    "        print(\"%d X %d = %d\" % (number, time, (time * number)))"
   ]
  },
  {
   "cell_type": "markdown",
   "metadata": {},
   "source": [
    "range() 함수"
   ]
  },
  {
   "cell_type": "code",
   "execution_count": 30,
   "metadata": {},
   "outputs": [
    {
     "data": {
      "text/plain": [
       "[0, 1, 2, 3, 4, 5, 6, 7, 8, 9]"
      ]
     },
     "execution_count": 30,
     "metadata": {},
     "output_type": "execute_result"
    }
   ],
   "source": [
    "list(range(10))"
   ]
  },
  {
   "cell_type": "code",
   "execution_count": 31,
   "metadata": {},
   "outputs": [
    {
     "data": {
      "text/plain": [
       "[1, 2, 3, 4, 5, 6, 7, 8, 9, 10]"
      ]
     },
     "execution_count": 31,
     "metadata": {},
     "output_type": "execute_result"
    }
   ],
   "source": [
    "list(range(1,11))"
   ]
  },
  {
   "cell_type": "code",
   "execution_count": 32,
   "metadata": {},
   "outputs": [
    {
     "data": {
      "text/plain": [
       "[1, 3, 5, 7, 9]"
      ]
     },
     "execution_count": 32,
     "metadata": {},
     "output_type": "execute_result"
    }
   ],
   "source": [
    "list(range(1, 10, 2))"
   ]
  },
  {
   "cell_type": "markdown",
   "metadata": {},
   "source": [
    "##### Quiz\n",
    "0 이 입력될 때까지 정수를 계속 입력받아 3의 배수와 5의 배수를 제외한 수들의 개수를 출력하는 프로그램을 작성하시오."
   ]
  },
  {
   "cell_type": "code",
   "execution_count": 33,
   "metadata": {},
   "outputs": [
    {
     "name": "stdout",
     "output_type": "stream",
     "text": [
      "0이 입력되면 입력을 종료합니다. > 0\n",
      "3의 배수와 5의 배수가 아닌 수는 0 개 입니다.\n"
     ]
    }
   ],
   "source": [
    "count = 0\n",
    "u_input = []\n",
    "\n",
    "while True:\n",
    "\ttemp = int(input(\"0이 입력되면 입력을 종료합니다. > \"))\n",
    "\t\n",
    "\tif temp == 0:\n",
    "\t\tbreak\n",
    "\n",
    "\tu_input.append(temp)\n",
    "\n",
    "for i in range(len(u_input)):\n",
    "    if i % 3 == 0:\n",
    "        continue\n",
    "    if i % 5 == 0:\n",
    "        continue\n",
    "    count += 1\n",
    "\n",
    "print(\"3의 배수와 5의 배수가 아닌 수는 %d 개 입니다.\" % count)"
   ]
  },
  {
   "cell_type": "markdown",
   "metadata": {},
   "source": [
    "리스트 안의 for문"
   ]
  },
  {
   "cell_type": "code",
   "execution_count": 34,
   "metadata": {},
   "outputs": [
    {
     "data": {
      "text/plain": [
       "['a', 'b', 'c']"
      ]
     },
     "execution_count": 34,
     "metadata": {},
     "output_type": "execute_result"
    }
   ],
   "source": [
    "l1"
   ]
  },
  {
   "cell_type": "code",
   "execution_count": 35,
   "metadata": {},
   "outputs": [
    {
     "data": {
      "text/plain": [
       "[1, 2, 3]"
      ]
     },
     "execution_count": 35,
     "metadata": {},
     "output_type": "execute_result"
    }
   ],
   "source": [
    "l2"
   ]
  },
  {
   "cell_type": "code",
   "execution_count": 36,
   "metadata": {},
   "outputs": [
    {
     "data": {
      "text/plain": [
       "['a 1', 'b 2', 'c 3']"
      ]
     },
     "execution_count": 36,
     "metadata": {},
     "output_type": "execute_result"
    }
   ],
   "source": [
    "result = [\"%s %d\" % (l, i) for l, i in zip(l1, l2) ]\n",
    "result"
   ]
  },
  {
   "cell_type": "markdown",
   "metadata": {},
   "source": [
    "##### Quiz\n",
    "주사위 놀이를 하다가 주사위를 10번 던져서 각 숫자가 몇 번씩 나왔는지 알아보려고 한다. 한번 던질 때마다 나온 주사위의 숫자를 입력받아서 각 숫자가 몇 번씩 나왔는지 횟수와 출현 확률을 출력하는 프로그램을 작성하시오.\n"
   ]
  },
  {
   "cell_type": "code",
   "execution_count": 37,
   "metadata": {},
   "outputs": [],
   "source": [
    "import random"
   ]
  },
  {
   "cell_type": "code",
   "execution_count": 38,
   "metadata": {},
   "outputs": [],
   "source": [
    "picks = 10000\n",
    "l = [random.randint(1, 6)  for i in range(picks)]"
   ]
  },
  {
   "cell_type": "code",
   "execution_count": 39,
   "metadata": {},
   "outputs": [
    {
     "name": "stdout",
     "output_type": "stream",
     "text": [
      "[16.52, 17.16, 17.08, 16.67, 16.43, 16.14]\n"
     ]
    }
   ],
   "source": [
    "times = {\"1\": 0, \"2\": 0, \"3\": 0, \"4\": 0, \"5\": 0, \"6\": 0}\n",
    "\n",
    "for i in l:\n",
    "    if i == 1:\n",
    "        times[\"1\"] += 1\n",
    "    elif i == 2:\n",
    "        times[\"2\"] += 1\n",
    "    elif i == 3:\n",
    "        times[\"3\"] += 1\n",
    "    elif i == 4:\n",
    "        times[\"4\"] += 1\n",
    "    elif i == 5:\n",
    "        times[\"5\"] += 1\n",
    "    else:\n",
    "        times[\"6\"] += 1\n",
    "\n",
    "prob = [ (i * 100) / picks for i in times.values() ]\n",
    "print(prob)\n",
    "    "
   ]
  },
  {
   "cell_type": "markdown",
   "metadata": {},
   "source": [
    "##### Quiz\n",
    "‘@’문자를 10개 출력하는 함수를 작성 한 후 함수를 세 번 호출하여 아래와 같이 출력하는 프로그램을 작성하시오."
   ]
  },
  {
   "cell_type": "code",
   "execution_count": 42,
   "metadata": {},
   "outputs": [],
   "source": [
    "def print10Words(msg):\n",
    "    print(\"%s\\n@@@@@@@@@@\" % msg)"
   ]
  },
  {
   "cell_type": "code",
   "execution_count": 43,
   "metadata": {},
   "outputs": [
    {
     "data": {
      "text/plain": [
       "'\\nfirst\\n@@@@@@@@@@\\nsecond\\n@@@@@@@@@@\\nthird\\n@@@@@@@@@@\\n'"
      ]
     },
     "execution_count": 43,
     "metadata": {},
     "output_type": "execute_result"
    }
   ],
   "source": [
    "\"\"\"\n",
    "first\n",
    "@@@@@@@@@@\n",
    "second\n",
    "@@@@@@@@@@\n",
    "third\n",
    "@@@@@@@@@@\n",
    "\"\"\""
   ]
  },
  {
   "cell_type": "code",
   "execution_count": 44,
   "metadata": {},
   "outputs": [
    {
     "name": "stdout",
     "output_type": "stream",
     "text": [
      "first\n",
      "@@@@@@@@@@\n",
      "second\n",
      "@@@@@@@@@@\n",
      "third\n",
      "@@@@@@@@@@\n"
     ]
    }
   ],
   "source": [
    "print10Words(\"first\")\n",
    "print10Words(\"second\")\n",
    "print10Words(\"third\")"
   ]
  },
  {
   "cell_type": "markdown",
   "metadata": {},
   "source": [
    "##### Quiz\n",
    "1부터 전달받은 수까지의 합을 출력하는 함수를 작성하고 1000 이하의 자연수를 입력받아 작성한 함수로 전달하여 출력하는 프로그램을 작성하시오. 1000을 초과하여 입력하면 -1을 출력하세요"
   ]
  },
  {
   "cell_type": "code",
   "execution_count": 54,
   "metadata": {},
   "outputs": [],
   "source": [
    "def sumToNumber(num):\n",
    "    result = 0\n",
    "    \n",
    "    if num > 1000:\n",
    "        return -1\n",
    "    else:\n",
    "        for i in range (1, num+1):\n",
    "            result += i\n",
    "        return result"
   ]
  },
  {
   "cell_type": "code",
   "execution_count": 55,
   "metadata": {},
   "outputs": [
    {
     "data": {
      "text/plain": [
       "3"
      ]
     },
     "execution_count": 55,
     "metadata": {},
     "output_type": "execute_result"
    }
   ],
   "source": [
    "sumToNumber(2)"
   ]
  },
  {
   "cell_type": "markdown",
   "metadata": {},
   "source": [
    "##### Quiz\n",
    "원주율을 3.141592로 디폴트 인수로 정의하고 원의 넓이를 구하는 함수를 작성하여 반지름을 입력받아 원의 넓이를 출력하는 프로그램을 작성하시오."
   ]
  },
  {
   "cell_type": "code",
   "execution_count": null,
   "metadata": {},
   "outputs": [],
   "source": [
    "def areaCircle(r, rate=3.141592):\n",
    "    return rate * r * r"
   ]
  },
  {
   "cell_type": "code",
   "execution_count": null,
   "metadata": {},
   "outputs": [],
   "source": [
    "print(areaCircle(10))"
   ]
  },
  {
   "cell_type": "markdown",
   "metadata": {},
   "source": [
    "##### Quiz\n",
    "5명의 학생 이름과 점수를 입력받아 이름과 점수, 등수를 입력받은 순서대로 출력하는 프로그램을 작성하시오.\n",
    "단, 출력시 \"이름\", \"점수\", \"등수\"는 한 칸의 공백으로 구분을 하며, Name은 4칸(%4s), Score는 5칸(%5d), Rank는 각 4칸(%4d)으로 출력한다."
   ]
  },
  {
   "cell_type": "code",
   "execution_count": 6,
   "metadata": {},
   "outputs": [
    {
     "data": {
      "text/plain": [
       "'\\nHong 90\\nLim 85\\nPark 88\\nGong 75\\nLee 100\\n'"
      ]
     },
     "execution_count": 6,
     "metadata": {},
     "output_type": "execute_result"
    }
   ],
   "source": [
    "\"\"\"\n",
    "Hong 90\n",
    "Lim 85\n",
    "Park 88\n",
    "Gong 75\n",
    "Lee 100\n",
    "\"\"\""
   ]
  },
  {
   "cell_type": "code",
   "execution_count": 7,
   "metadata": {},
   "outputs": [
    {
     "name": "stdout",
     "output_type": "stream",
     "text": [
      "Hong 90\n",
      "Lim 85\n",
      "Park 88\n",
      "Gong 75\n",
      "Lee 100\n",
      "-1\n"
     ]
    }
   ],
   "source": [
    "with open('test.txt', 'w') as f:\n",
    "    while True:\n",
    "        msg = input()\n",
    "        if msg == \"-1\":\n",
    "            break;\n",
    "        else:\n",
    "            f.write(msg+\"\\n\")\n"
   ]
  },
  {
   "cell_type": "code",
   "execution_count": 8,
   "metadata": {},
   "outputs": [
    {
     "name": "stdout",
     "output_type": "stream",
     "text": [
      "[('Hong', '90'), ('Lim', '85'), ('Park', '88'), ('Gong', '75'), ('Lee', '100')]\n"
     ]
    }
   ],
   "source": [
    "table = []\n",
    "\n",
    "with open('test.txt', 'r') as f:\n",
    "    while True:\n",
    "        line = f.readline()\n",
    "        if not line: break\n",
    "        \n",
    "        table.append((line.split()[0], line.split()[1]))\n",
    "\n",
    "rank = []\n",
    "cur_rank = 1\n",
    "max_idx = -1\n",
    "max_value = 0\n",
    "\n",
    "print(table)\n",
    "while True:\n",
    "    if len(table) != 0:\n",
    "        for i, t in enumerate(table):\n",
    "            name = t[0]\n",
    "            score = int(t[1])\n",
    "            \n",
    "            if i == 0 or max_value < score:\n",
    "                max_idx = i\n",
    "                max_value = score\n",
    "                continue\n",
    "            else:\n",
    "                pass\n",
    "            \n",
    "        name = table[max_idx][0]\n",
    "        score = int(table[max_idx][1])\n",
    "        rank.append((name, score, cur_rank))\n",
    "        cur_rank += 1\n",
    "        del table[max_idx]\n",
    "        \n",
    "        max_idx = -1\n",
    "        max_value = 0\n",
    "    else:\n",
    "        break\n"
   ]
  },
  {
   "cell_type": "code",
   "execution_count": 9,
   "metadata": {},
   "outputs": [
    {
     "data": {
      "text/plain": [
       "[('Lee', 100, 1),\n",
       " ('Hong', 90, 2),\n",
       " ('Park', 88, 3),\n",
       " ('Lim', 85, 4),\n",
       " ('Gong', 75, 5)]"
      ]
     },
     "execution_count": 9,
     "metadata": {},
     "output_type": "execute_result"
    }
   ],
   "source": [
    "rank"
   ]
  },
  {
   "cell_type": "code",
   "execution_count": 11,
   "metadata": {},
   "outputs": [],
   "source": [
    "with open('test2.txt', 'w') as f:\n",
    "    f.write(\"%4s %5s %4s\\n\" % (\"Name\", \"Score\", \"Rank\"))\n",
    "    for i in rank:\n",
    "        msg = \"%4s %5s %4s\\n\" % (i[0], str(i[1]), str(i[2]))\n",
    "        f.write(msg)"
   ]
  },
  {
   "cell_type": "code",
   "execution_count": null,
   "metadata": {},
   "outputs": [],
   "source": []
  }
 ],
 "metadata": {
  "kernelspec": {
   "display_name": "Python 3",
   "language": "python",
   "name": "python3"
  },
  "language_info": {
   "codemirror_mode": {
    "name": "ipython",
    "version": 3
   },
   "file_extension": ".py",
   "mimetype": "text/x-python",
   "name": "python",
   "nbconvert_exporter": "python",
   "pygments_lexer": "ipython3",
   "version": "3.6.4"
  }
 },
 "nbformat": 4,
 "nbformat_minor": 2
}
